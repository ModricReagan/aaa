{
 "cells": [
  {
   "cell_type": "code",
   "execution_count": 1,
   "id": "e82cca70",
   "metadata": {},
   "outputs": [],
   "source": [
    "import numpy as np\n",
    "import pandas as pd\n",
    "import seaborn as sns\n",
    "import random\n",
    "from sklearn.model_selection import train_test_split\n",
    "from sklearn.metrics import mean_squared_error,confusion_matrix,accuracy_score,recall_score,precision_score,classification_report,roc_auc_score\n",
    "import shap\n",
    "import catboost"
   ]
  },
  {
   "cell_type": "code",
   "execution_count": 3,
   "id": "ebb36f07",
   "metadata": {},
   "outputs": [],
   "source": [
    "df1 = pd.read_csv(\"60岁3个月lasso.csv\",header=None)"
   ]
  },
  {
   "cell_type": "code",
   "execution_count": 4,
   "id": "9177434c",
   "metadata": {},
   "outputs": [
    {
     "name": "stderr",
     "output_type": "stream",
     "text": [
      "`np.object` is a deprecated alias for the builtin `object`. To silence this warning, use `object` by itself. Doing this will not modify any behavior and is safe. \n",
      "Deprecated in NumPy 1.20; for more details and guidance: https://numpy.org/devdocs/release/1.20.0-notes.html#deprecations\n"
     ]
    },
    {
     "data": {
      "application/vnd.jupyter.widget-view+json": {
       "model_id": "d7bbc8c0e6944c50bb1bc7952c0b2b64",
       "version_major": 2,
       "version_minor": 0
      },
      "text/plain": [
       "MetricVisualizer(layout=Layout(align_self='stretch', height='500px'))"
      ]
     },
     "metadata": {},
     "output_type": "display_data"
    },
    {
     "name": "stdout",
     "output_type": "stream",
     "text": [
      "0:\ttest: 0.8806061\tbest: 0.8806061 (0)\ttotal: 155ms\tremaining: 2m 34s\n",
      "200:\ttest: 0.9103030\tbest: 0.9269697 (7)\ttotal: 7.07s\tremaining: 28.1s\n",
      "400:\ttest: 0.9066667\tbest: 0.9269697 (7)\ttotal: 13.8s\tremaining: 20.5s\n",
      "Stopped by overfitting detector  (500 iterations wait)\n",
      "\n",
      "bestTest = 0.926969697\n",
      "bestIteration = 7\n",
      "\n",
      "Shrink model to first 8 iterations.\n",
      "              precision    recall  f1-score   support\n",
      "\n",
      "           0       0.92      0.99      0.96       110\n",
      "           1       0.86      0.40      0.55        15\n",
      "\n",
      "    accuracy                           0.92       125\n",
      "   macro avg       0.89      0.70      0.75       125\n",
      "weighted avg       0.92      0.92      0.91       125\n",
      "\n",
      "test-set confusion matrix:\n",
      "\n",
      "          Predicted 0  Predicted 1\n",
      "actual 0          109            1\n",
      "actual 1            9            6\n"
     ]
    }
   ],
   "source": [
    "df1.columns=['Age', 'Hb', 'Surgery_duration', 'Hypotension', 'Blood_loss',\n",
    "       'VAS_Score','3-months']\n",
    "\n",
    "df2 = df1.iloc[1:,:]\n",
    "\n",
    "y  = df2['3-months'].values\n",
    "X = df2.drop(['3-months'],axis=1).values\n",
    "\n",
    "\n",
    "X_train, X_test, y_train, y_test = train_test_split(X, y, test_size=0.3)\n",
    "\n",
    "\n",
    "categorical_features = np.where(df2.drop(['3-months'],axis=1).dtypes == np.object)[0]\n",
    "params = {\n",
    "          'learning_rate':0.1,\n",
    "          'cat_features':categorical_features,\n",
    "          'depth':6,\n",
    "          'eval_metric':'AUC',\n",
    "          'verbose':200,\n",
    "          'od_type':\"Iter\", # overfit detector\n",
    "          'od_wait':500, # most recent best iteration to wait before stopping\n",
    "          #'random_seed': 2,\n",
    "          #'n_estimators': 200\n",
    "          }\n",
    "\n",
    "\n",
    "cat_model = catboost.CatBoostClassifier(**params)\n",
    "cat_model.fit(X_train, y_train,   \n",
    "          eval_set=(X_test, y_test), \n",
    "          use_best_model=True, # True if we don't want to save trees created after iteration with the best validation score\n",
    "          plot=True  \n",
    "         );\n",
    "\n",
    "pred =  cat_model.predict(X_test)\n",
    "\n",
    "\n",
    "print(classification_report(y_test,pred))\n",
    "\n",
    "print('test-set confusion matrix:\\n') \n",
    "confusion_matrix_df = pd.DataFrame(confusion_matrix(y_test,pred))\n",
    "confusion_matrix_df.columns = ['Predicted 0','Predicted 1'] \n",
    "confusion_matrix_df.index = ['actual 0','actual 1'] \n",
    "print(confusion_matrix_df)"
   ]
  },
  {
   "cell_type": "code",
   "execution_count": 16,
   "id": "9d13eb4c",
   "metadata": {},
   "outputs": [],
   "source": [
    "cat_model.save_model('POCD')"
   ]
  },
  {
   "cell_type": "code",
   "execution_count": 18,
   "id": "a387f018",
   "metadata": {},
   "outputs": [],
   "source": [
    "explainer = shap.Explainer(cat_model)\n",
    "shap_values = explainer(X_test)\n",
    "\n",
    "shapvaluedf = pd.DataFrame(shap_values.values, columns= df2.drop(['3-months'],axis=1).columns)\n",
    "shapdatadf = pd.DataFrame(shap_values.data, columns= df2.drop(['3-months'],axis=1).columns)\n",
    "\n",
    "shapdatadf.to_excel(r'shapdatadf.xlsx')\n",
    "shapvaluedf.to_excel(r'shapvaluedf.xlsx')"
   ]
  },
  {
   "cell_type": "code",
   "execution_count": null,
   "id": "bc1d4e24",
   "metadata": {},
   "outputs": [],
   "source": []
  }
 ],
 "metadata": {
  "kernelspec": {
   "display_name": "Python 3 (ipykernel)",
   "language": "python",
   "name": "python3"
  },
  "language_info": {
   "codemirror_mode": {
    "name": "ipython",
    "version": 3
   },
   "file_extension": ".py",
   "mimetype": "text/x-python",
   "name": "python",
   "nbconvert_exporter": "python",
   "pygments_lexer": "ipython3",
   "version": "3.9.12"
  }
 },
 "nbformat": 4,
 "nbformat_minor": 5
}
